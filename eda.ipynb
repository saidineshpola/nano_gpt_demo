{
 "cells": [
  {
   "cell_type": "markdown",
   "metadata": {},
   "source": [
    "## explore data"
   ]
  },
  {
   "cell_type": "code",
   "execution_count": null,
   "metadata": {},
   "outputs": [],
   "source": [
    "# We always start with a dataset to train on. Let's download the tiny shakespeare dataset\n",
    "!wget https://raw.githubusercontent.com/karpathy/char-rnn/master/data/tinyshakespeare/input.txt"
   ]
  },
  {
   "cell_type": "code",
   "execution_count": null,
   "metadata": {},
   "outputs": [],
   "source": [
    "# read it in to inspect it\n",
    "with open('input.txt', 'r', encoding='utf-8') as f:\n",
    "    text = f.read()\n",
    "print(\"length of dataset in characters: \", len(text))\n",
    "print(text[:1000])"
   ]
  },
  {
   "cell_type": "code",
   "execution_count": 26,
   "metadata": {},
   "outputs": [
    {
     "name": "stdout",
     "output_type": "stream",
     "text": [
      "Vocabulary size:  65\n",
      "['\\n', ' ', '!', '$', '&', \"'\", ',', '-', '.', '3', ':', ';', '?', 'A', 'B', 'C', 'D', 'E', 'F', 'G', 'H', 'I', 'J', 'K', 'L', 'M', 'N', 'O', 'P', 'Q', 'R', 'S', 'T', 'U', 'V', 'W', 'X', 'Y', 'Z', 'a', 'b', 'c', 'd', 'e', 'f', 'g', 'h', 'i', 'j', 'k', 'l', 'm', 'n', 'o', 'p', 'q', 'r', 's', 't', 'u', 'v', 'w', 'x', 'y', 'z']\n",
      "Encoded:  [46, 43, 50, 50, 53]\n",
      "Decoded:  hello\n"
     ]
    }
   ],
   "source": [
    "chars= sorted(list(set(text)))\n",
    "vocab_size = len(chars)\n",
    "print(\"Vocabulary size: \", vocab_size)\n",
    "print(chars)\n",
    "char_to_idx = {ch:i for i,ch in enumerate(chars)}\n",
    "idx_to_char = {i:ch for i,ch in enumerate(chars)}\n",
    "\n",
    "encode = lambda x: [char_to_idx[ch] for ch in x]\n",
    "decode = lambda x: ''.join([idx_to_char[i] for i in x])\n",
    "print(\"Encoded: \", encode(\"hello\"))\n",
    "print(\"Decoded: \", decode(encode(\"hello\")))"
   ]
  },
  {
   "cell_type": "code",
   "execution_count": 27,
   "metadata": {},
   "outputs": [
    {
     "name": "stdout",
     "output_type": "stream",
     "text": [
      "torch.Size([1115394]) torch.int64\n",
      "tensor([18, 47, 56, 57, 58,  1, 15, 47, 58, 47])\n"
     ]
    }
   ],
   "source": [
    "import torch\n",
    "data = torch.tensor(encode(text), dtype=torch.long)\n",
    "print(data.shape, data.dtype)\n",
    "print(data[:10])"
   ]
  },
  {
   "cell_type": "code",
   "execution_count": 28,
   "metadata": {},
   "outputs": [],
   "source": [
    "# split the data into train and test\n",
    "n= data.shape[0]\n",
    "train_data = data[:int(0.8*n)]\n",
    "val_data = data[int(0.8*n):]"
   ]
  },
  {
   "cell_type": "code",
   "execution_count": 12,
   "metadata": {},
   "outputs": [
    {
     "data": {
      "text/plain": [
       "tensor([18, 47, 56, 57, 58,  1, 15, 47, 58])"
      ]
     },
     "execution_count": 12,
     "metadata": {},
     "output_type": "execute_result"
    }
   ],
   "source": [
    "block_size =8\n",
    "train_data[:block_size+1]"
   ]
  },
  {
   "cell_type": "code",
   "execution_count": 14,
   "metadata": {},
   "outputs": [
    {
     "name": "stdout",
     "output_type": "stream",
     "text": [
      "when we see tensor([18]) we predict 47\n",
      "when we see tensor([18, 47]) we predict 56\n",
      "when we see tensor([18, 47, 56]) we predict 57\n",
      "when we see tensor([18, 47, 56, 57]) we predict 58\n",
      "when we see tensor([18, 47, 56, 57, 58]) we predict 1\n",
      "when we see tensor([18, 47, 56, 57, 58,  1]) we predict 15\n",
      "when we see tensor([18, 47, 56, 57, 58,  1, 15]) we predict 47\n",
      "when we see tensor([18, 47, 56, 57, 58,  1, 15, 47]) we predict 58\n"
     ]
    }
   ],
   "source": [
    "x= train_data[:block_size]\n",
    "y= train_data[1:block_size+1]\n",
    "for t in range(block_size):\n",
    "    context =x[:t+1]\n",
    "    target = y[t]\n",
    "    print(f'when we see {context} we predict {target}')"
   ]
  },
  {
   "cell_type": "markdown",
   "metadata": {},
   "source": [
    "BatchDimension"
   ]
  },
  {
   "cell_type": "code",
   "execution_count": 25,
   "metadata": {},
   "outputs": [
    {
     "name": "stdout",
     "output_type": "stream",
     "text": [
      "torch.Size([4, 8]) torch.Size([4, 8])\n",
      "tensor([[39, 60, 43,  1, 21,  1, 58, 46],\n",
      "        [ 1, 63, 53, 59,  6,  1, 57, 47],\n",
      "        [ 1, 54, 56, 53, 59, 42,  1, 46],\n",
      "        [ 1, 58, 46, 53, 59,  1, 44, 39]])\n",
      "tensor([[60, 43,  1, 21,  1, 58, 46, 53],\n",
      "        [63, 53, 59,  6,  1, 57, 47, 56],\n",
      "        [54, 56, 53, 59, 42,  1, 46, 43],\n",
      "        [58, 46, 53, 59,  1, 44, 39, 47]])\n",
      "when we see tensor([39]) we predict 60\n",
      "when we see tensor([39, 60]) we predict 43\n",
      "when we see tensor([39, 60, 43]) we predict 1\n",
      "when we see tensor([39, 60, 43,  1]) we predict 21\n",
      "when we see tensor([39, 60, 43,  1, 21]) we predict 1\n",
      "when we see tensor([39, 60, 43,  1, 21,  1]) we predict 58\n",
      "when we see tensor([39, 60, 43,  1, 21,  1, 58]) we predict 46\n",
      "when we see tensor([39, 60, 43,  1, 21,  1, 58, 46]) we predict 53\n",
      "when we see tensor([1]) we predict 63\n",
      "when we see tensor([ 1, 63]) we predict 53\n",
      "when we see tensor([ 1, 63, 53]) we predict 59\n",
      "when we see tensor([ 1, 63, 53, 59]) we predict 6\n",
      "when we see tensor([ 1, 63, 53, 59,  6]) we predict 1\n",
      "when we see tensor([ 1, 63, 53, 59,  6,  1]) we predict 57\n",
      "when we see tensor([ 1, 63, 53, 59,  6,  1, 57]) we predict 47\n",
      "when we see tensor([ 1, 63, 53, 59,  6,  1, 57, 47]) we predict 56\n",
      "when we see tensor([1]) we predict 54\n",
      "when we see tensor([ 1, 54]) we predict 56\n",
      "when we see tensor([ 1, 54, 56]) we predict 53\n",
      "when we see tensor([ 1, 54, 56, 53]) we predict 59\n",
      "when we see tensor([ 1, 54, 56, 53, 59]) we predict 42\n",
      "when we see tensor([ 1, 54, 56, 53, 59, 42]) we predict 1\n",
      "when we see tensor([ 1, 54, 56, 53, 59, 42,  1]) we predict 46\n",
      "when we see tensor([ 1, 54, 56, 53, 59, 42,  1, 46]) we predict 43\n",
      "when we see tensor([1]) we predict 58\n",
      "when we see tensor([ 1, 58]) we predict 46\n",
      "when we see tensor([ 1, 58, 46]) we predict 53\n",
      "when we see tensor([ 1, 58, 46, 53]) we predict 59\n",
      "when we see tensor([ 1, 58, 46, 53, 59]) we predict 1\n",
      "when we see tensor([ 1, 58, 46, 53, 59,  1]) we predict 44\n",
      "when we see tensor([ 1, 58, 46, 53, 59,  1, 44]) we predict 39\n",
      "when we see tensor([ 1, 58, 46, 53, 59,  1, 44, 39]) we predict 47\n"
     ]
    }
   ],
   "source": [
    "torch.manual_seed(0)\n",
    "block_size= 8# sequence length\n",
    "batch_size = 4# number of sequences in a batch\n",
    "\n",
    "def get_batch(split):\n",
    "    # generate sequences of length block_size\n",
    "    data= train_data if split=='train' else val_data\n",
    "    ix = torch.randint(len(data)-block_size, (batch_size,))\n",
    "    x= torch.stack([data[i:i+block_size] for i in ix])\n",
    "    y= torch.stack([data[i+1:i+block_size+1] for i in ix])\n",
    "    return x,y\n",
    "\n",
    "xb,yb= get_batch('train')\n",
    "print(xb.shape, yb.shape)\n",
    "print(xb)\n",
    "print(yb)\n",
    "\n",
    "for b in range(batch_size):\n",
    "    for t in range(block_size):\n",
    "        context = xb[b, :t+1]\n",
    "        target = yb[b, t]\n",
    "        print(f'when we see {context} we predict {target}')"
   ]
  },
  {
   "cell_type": "markdown",
   "metadata": {},
   "source": [
    "## Bigram Model (testing the data with simplest Model)"
   ]
  },
  {
   "cell_type": "code",
   "execution_count": 51,
   "metadata": {},
   "outputs": [
    {
     "name": "stdout",
     "output_type": "stream",
     "text": [
      "torch.Size([32, 65])\n",
      "tensor(4.9475, grad_fn=<NllLossBackward0>)\n",
      "\n",
      "Sr?qP-QWktXoL&jLDJgOLVz'RIoDqHdhsV&vLLxatjscMpwLERSPyao.qfzs$Ys$zF-w,;eEkzxjgCKFChs!iWW.ObzDnxA Ms$3\n"
     ]
    }
   ],
   "source": [
    "import torch\n",
    "import torch.nn as nn\n",
    "from torch.nn import functional as F\n",
    "torch.manual_seed(1337)\n",
    "\n",
    "class BigramLanguageModel(nn.Module):\n",
    "\n",
    "    def __init__(self, vocab_size):\n",
    "        super().__init__()\n",
    "        # each token directly reads off the logits for the next token from a lookup table\n",
    "        self.token_embedding_table = nn.Embedding(vocab_size, vocab_size)\n",
    "\n",
    "    def forward(self, idx, targets=None):\n",
    "\n",
    "        # idx and targets are both (B,T) tensor of integers and C number of classes(characters)\n",
    "        logits = self.token_embedding_table(idx) # (B,T,C)\n",
    "\n",
    "        if targets is None:\n",
    "            loss = None\n",
    "        else:\n",
    "            B, T, C = logits.shape\n",
    "            logits = logits.view(B*T, C)\n",
    "            targets = targets.view(B*T)\n",
    "            loss = F.cross_entropy(logits, targets)\n",
    "\n",
    "        return logits, loss\n",
    "\n",
    "    def generate(self, idx, max_new_tokens):\n",
    "        # idx is (B, T) array of indices in the current context\n",
    "        for _ in range(max_new_tokens):\n",
    "            # get the predictions\n",
    "            logits, loss = self(idx)\n",
    "            # focus only on the last time step\n",
    "            logits = logits[:, -1, :] # becomes (B, C)\n",
    "            # apply softmax to get probabilities\n",
    "            probs = F.softmax(logits, dim=-1) # (B, C)\n",
    "            # sample from the distribution\n",
    "            idx_next = torch.multinomial(probs, num_samples=1) # (B, 1)\n",
    "            # append sampled index to the running sequence\n",
    "            idx = torch.cat((idx, idx_next), dim=1) # (B, T+1)\n",
    "\n",
    "    \n",
    "        return idx\n",
    "\n",
    "m = BigramLanguageModel(vocab_size)\n",
    "logits, loss = m(xb, yb)\n",
    "print(logits.shape)\n",
    "print(loss)\n",
    "\n",
    "print(decode(m.generate(idx = torch.zeros((1, 1), dtype=torch.long), max_new_tokens=100)[0].tolist()))\n"
   ]
  },
  {
   "cell_type": "code",
   "execution_count": 55,
   "metadata": {},
   "outputs": [
    {
     "name": "stdout",
     "output_type": "stream",
     "text": [
      "iteration 0, loss = 2.4616758823394775\n",
      "iteration 1000, loss = 2.3846993446350098\n",
      "iteration 2000, loss = 2.3376216888427734\n",
      "iteration 3000, loss = 2.332671880722046\n",
      "iteration 4000, loss = 2.47920823097229\n",
      "iteration 5000, loss = 2.392169713973999\n",
      "iteration 6000, loss = 2.472682476043701\n",
      "iteration 7000, loss = 2.5612494945526123\n",
      "iteration 8000, loss = 2.3629305362701416\n",
      "iteration 9000, loss = 2.537325382232666\n"
     ]
    }
   ],
   "source": [
    "optimizer = torch.optim.Adam(m.parameters(), lr=0.01)\n",
    "batch_size = 32\n",
    "\n",
    "for i in range(10000):\n",
    "    xb, yb = get_batch('train')\n",
    "    logits, loss = m(xb, yb)\n",
    "    optimizer.zero_grad(set_to_none=True)\n",
    "    loss.backward()\n",
    "    optimizer.step()\n",
    "    if i % 1000 == 0:\n",
    "        print(f'iteration {i}, loss = {loss.item()}')"
   ]
  },
  {
   "cell_type": "code",
   "execution_count": 57,
   "metadata": {},
   "outputs": [
    {
     "name": "stdout",
     "output_type": "stream",
     "text": [
      "\n",
      "RDYowis by, ome mord an, wende!\n",
      "D:\n",
      "\n",
      "BO, ffsbat hyouetrso u?\n",
      "UCERolbr d paninger n.\n",
      "BETh a oroe the w\n"
     ]
    }
   ],
   "source": [
    "print(decode(m.generate(idx = torch.zeros((1, 1), dtype=torch.long), max_new_tokens=100)[0].tolist()))"
   ]
  },
  {
   "cell_type": "markdown",
   "metadata": {},
   "source": [
    "## Self Atention Demo"
   ]
  },
  {
   "cell_type": "code",
   "execution_count": 60,
   "metadata": {},
   "outputs": [
    {
     "data": {
      "text/plain": [
       "torch.Size([4, 8, 2])"
      ]
     },
     "execution_count": 60,
     "metadata": {},
     "output_type": "execute_result"
    }
   ],
   "source": [
    "B,T,C = 4,8,2\n",
    "logits = torch.randn(B,T,C)\n",
    "logits.shape"
   ]
  },
  {
   "cell_type": "code",
   "execution_count": 62,
   "metadata": {},
   "outputs": [
    {
     "data": {
      "text/plain": [
       "tensor([[ 0.2685,  0.5452],\n",
       "        [-0.8923, -0.2797],\n",
       "        [-1.2508, -0.1609],\n",
       "        [ 0.2853, -0.2369],\n",
       "        [ 0.8912,  0.0956],\n",
       "        [ 0.1292, -1.2688],\n",
       "        [ 0.7083,  0.0457],\n",
       "        [ 0.3700, -1.2625]])"
      ]
     },
     "execution_count": 62,
     "metadata": {},
     "output_type": "execute_result"
    }
   ],
   "source": [
    "# we are doing logits[b,t]= mean_{i<=t} logit[b,i]\n",
    "logitsbow = torch.zeros(B,T,C)\n",
    "for b in range(B):\n",
    "    for t in range(T):\n",
    "        logitsprev = logits[b,:t+1] # t,C\n",
    "        logitsbow[b,t] = logitsprev.mean(dim=0)\n",
    "        \n",
    "logits[0]\n"
   ]
  },
  {
   "cell_type": "code",
   "execution_count": 63,
   "metadata": {},
   "outputs": [
    {
     "data": {
      "text/plain": [
       "tensor([[ 0.2685,  0.5452],\n",
       "        [-0.3119,  0.1328],\n",
       "        [-0.6249,  0.0349],\n",
       "        [-0.3973, -0.0331],\n",
       "        [-0.1396, -0.0073],\n",
       "        [-0.0948, -0.2176],\n",
       "        [ 0.0199, -0.1800],\n",
       "        [ 0.0637, -0.3153]])"
      ]
     },
     "execution_count": 63,
     "metadata": {},
     "output_type": "execute_result"
    }
   ],
   "source": [
    "logitsbow[0]"
   ]
  },
  {
   "cell_type": "code",
   "execution_count": 67,
   "metadata": {},
   "outputs": [
    {
     "name": "stdout",
     "output_type": "stream",
     "text": [
      "tensor([[1.0000, 0.0000, 0.0000, 0.0000, 0.0000, 0.0000, 0.0000, 0.0000],\n",
      "        [0.5000, 0.5000, 0.0000, 0.0000, 0.0000, 0.0000, 0.0000, 0.0000],\n",
      "        [0.3333, 0.3333, 0.3333, 0.0000, 0.0000, 0.0000, 0.0000, 0.0000],\n",
      "        [0.2500, 0.2500, 0.2500, 0.2500, 0.0000, 0.0000, 0.0000, 0.0000],\n",
      "        [0.2000, 0.2000, 0.2000, 0.2000, 0.2000, 0.0000, 0.0000, 0.0000],\n",
      "        [0.1667, 0.1667, 0.1667, 0.1667, 0.1667, 0.1667, 0.0000, 0.0000],\n",
      "        [0.1429, 0.1429, 0.1429, 0.1429, 0.1429, 0.1429, 0.1429, 0.0000],\n",
      "        [0.1250, 0.1250, 0.1250, 0.1250, 0.1250, 0.1250, 0.1250, 0.1250]])\n"
     ]
    }
   ],
   "source": [
    "# optimizing abovve code with matrix operations\n",
    "torch.manual_seed(0)\n",
    "wei= torch.tril(torch.ones(T,T))\n",
    "wei= wei/wei.sum(dim=1, keepdim=True)\n",
    "print(wei)"
   ]
  },
  {
   "cell_type": "code",
   "execution_count": 72,
   "metadata": {},
   "outputs": [
    {
     "name": "stdout",
     "output_type": "stream",
     "text": [
      "tensor([[ 0.2685,  0.5452],\n",
      "        [-0.3119,  0.1328],\n",
      "        [-0.6249,  0.0349],\n",
      "        [-0.3973, -0.0331],\n",
      "        [-0.1396, -0.0073],\n",
      "        [-0.0948, -0.2176],\n",
      "        [ 0.0199, -0.1800],\n",
      "        [ 0.0637, -0.3153]]) tensor([[ 0.2685,  0.5452],\n",
      "        [-0.3119,  0.1328],\n",
      "        [-0.6249,  0.0349],\n",
      "        [-0.3973, -0.0331],\n",
      "        [-0.1396, -0.0073],\n",
      "        [-0.0948, -0.2176],\n",
      "        [ 0.0199, -0.1800],\n",
      "        [ 0.0637, -0.3153]])\n"
     ]
    }
   ],
   "source": [
    "logitsbow2= wei@ logits # (B,T,T) @ (B,T,C) -> (B,T,C)\n",
    "torch.allclose(logitsbow, logitsbow2)\n",
    "print(logitsbow2[0], logitsbow[0])"
   ]
  }
 ],
 "metadata": {
  "kernelspec": {
   "display_name": ".venv",
   "language": "python",
   "name": "python3"
  },
  "language_info": {
   "codemirror_mode": {
    "name": "ipython",
    "version": 3
   },
   "file_extension": ".py",
   "mimetype": "text/x-python",
   "name": "python",
   "nbconvert_exporter": "python",
   "pygments_lexer": "ipython3",
   "version": "3.10.12"
  }
 },
 "nbformat": 4,
 "nbformat_minor": 2
}
