{
 "cells": [
  {
   "cell_type": "markdown",
   "metadata": {},
   "source": [
    "## explore data"
   ]
  },
  {
   "cell_type": "code",
   "execution_count": null,
   "metadata": {},
   "outputs": [],
   "source": [
    "# We always start with a dataset to train on. Let's download the tiny shakespeare dataset\n",
    "!wget https://raw.githubusercontent.com/karpathy/char-rnn/master/data/tinyshakespeare/input.txt"
   ]
  },
  {
   "cell_type": "code",
   "execution_count": null,
   "metadata": {},
   "outputs": [],
   "source": [
    "# read it in to inspect it\n",
    "with open('input.txt', 'r', encoding='utf-8') as f:\n",
    "    text = f.read()\n",
    "print(\"length of dataset in characters: \", len(text))\n",
    "print(text[:1000])"
   ]
  },
  {
   "cell_type": "code",
   "execution_count": 3,
   "metadata": {},
   "outputs": [
    {
     "name": "stdout",
     "output_type": "stream",
     "text": [
      "Vocabulary size:  65\n",
      "['\\n', ' ', '!', '$', '&', \"'\", ',', '-', '.', '3', ':', ';', '?', 'A', 'B', 'C', 'D', 'E', 'F', 'G', 'H', 'I', 'J', 'K', 'L', 'M', 'N', 'O', 'P', 'Q', 'R', 'S', 'T', 'U', 'V', 'W', 'X', 'Y', 'Z', 'a', 'b', 'c', 'd', 'e', 'f', 'g', 'h', 'i', 'j', 'k', 'l', 'm', 'n', 'o', 'p', 'q', 'r', 's', 't', 'u', 'v', 'w', 'x', 'y', 'z']\n",
      "Encoded:  [46, 43, 50, 50, 53]\n",
      "Decoded:  hello\n"
     ]
    }
   ],
   "source": [
    "chars= sorted(list(set(text)))\n",
    "vocab_size = len(chars)\n",
    "print(\"Vocabulary size: \", vocab_size)\n",
    "print(chars)\n",
    "char_to_idx = {ch:i for i,ch in enumerate(chars)}\n",
    "idx_to_char = {i:ch for i,ch in enumerate(chars)}\n",
    "\n",
    "encode = lambda x: [char_to_idx[ch] for ch in x]\n",
    "decode = lambda x: ''.join([idx_to_char[i] for i in x])\n",
    "print(\"Encoded: \", encode(\"hello\"))\n",
    "print(\"Decoded: \", decode(encode(\"hello\")))"
   ]
  },
  {
   "cell_type": "code",
   "execution_count": 4,
   "metadata": {},
   "outputs": [
    {
     "name": "stderr",
     "output_type": "stream",
     "text": [
      "/home/saidinesh/Desktop/Projects/nano_gpt_demo/.venv/lib/python3.10/site-packages/torch/_subclasses/functional_tensor.py:258: UserWarning: Failed to initialize NumPy: No module named 'numpy' (Triggered internally at ../torch/csrc/utils/tensor_numpy.cpp:84.)\n",
      "  cpu = _conversion_method_template(device=torch.device(\"cpu\"))\n"
     ]
    },
    {
     "name": "stdout",
     "output_type": "stream",
     "text": [
      "torch.Size([1115394]) torch.int64\n",
      "tensor([18, 47, 56, 57, 58,  1, 15, 47, 58, 47])\n"
     ]
    }
   ],
   "source": [
    "import torch\n",
    "data = torch.tensor(encode(text), dtype=torch.long)\n",
    "print(data.shape, data.dtype)\n",
    "print(data[:10])"
   ]
  },
  {
   "cell_type": "code",
   "execution_count": 5,
   "metadata": {},
   "outputs": [],
   "source": [
    "# split the data into train and test\n",
    "n= data.shape[0]\n",
    "train_data = data[:int(0.8*n)]\n",
    "val_data = data[int(0.8*n):]"
   ]
  },
  {
   "cell_type": "code",
   "execution_count": 6,
   "metadata": {},
   "outputs": [
    {
     "data": {
      "text/plain": [
       "tensor([18, 47, 56, 57, 58,  1, 15, 47, 58])"
      ]
     },
     "execution_count": 6,
     "metadata": {},
     "output_type": "execute_result"
    }
   ],
   "source": [
    "block_size =8\n",
    "train_data[:block_size+1]"
   ]
  },
  {
   "cell_type": "code",
   "execution_count": 7,
   "metadata": {},
   "outputs": [
    {
     "name": "stdout",
     "output_type": "stream",
     "text": [
      "when we see tensor([18]) we predict 47\n",
      "when we see tensor([18, 47]) we predict 56\n",
      "when we see tensor([18, 47, 56]) we predict 57\n",
      "when we see tensor([18, 47, 56, 57]) we predict 58\n",
      "when we see tensor([18, 47, 56, 57, 58]) we predict 1\n",
      "when we see tensor([18, 47, 56, 57, 58,  1]) we predict 15\n",
      "when we see tensor([18, 47, 56, 57, 58,  1, 15]) we predict 47\n",
      "when we see tensor([18, 47, 56, 57, 58,  1, 15, 47]) we predict 58\n"
     ]
    }
   ],
   "source": [
    "x= train_data[:block_size]\n",
    "y= train_data[1:block_size+1]\n",
    "for t in range(block_size):\n",
    "    context =x[:t+1]\n",
    "    target = y[t]\n",
    "    print(f'when we see {context} we predict {target}')"
   ]
  },
  {
   "cell_type": "markdown",
   "metadata": {},
   "source": [
    "BatchDimension"
   ]
  },
  {
   "cell_type": "code",
   "execution_count": 9,
   "metadata": {},
   "outputs": [
    {
     "name": "stdout",
     "output_type": "stream",
     "text": [
      "torch.Size([4, 8]) torch.Size([4, 8])\n",
      "tensor([[39, 60, 43,  1, 21,  1, 58, 46],\n",
      "        [ 1, 63, 53, 59,  6,  1, 57, 47],\n",
      "        [ 1, 54, 56, 53, 59, 42,  1, 46],\n",
      "        [ 1, 58, 46, 53, 59,  1, 44, 39]])\n",
      "tensor([[60, 43,  1, 21,  1, 58, 46, 53],\n",
      "        [63, 53, 59,  6,  1, 57, 47, 56],\n",
      "        [54, 56, 53, 59, 42,  1, 46, 43],\n",
      "        [58, 46, 53, 59,  1, 44, 39, 47]])\n",
      "when we see tensor([39]) we predict 60\n",
      "when we see tensor([39, 60]) we predict 43\n",
      "when we see tensor([39, 60, 43]) we predict 1\n",
      "when we see tensor([39, 60, 43,  1]) we predict 21\n",
      "when we see tensor([39, 60, 43,  1, 21]) we predict 1\n",
      "when we see tensor([39, 60, 43,  1, 21,  1]) we predict 58\n",
      "when we see tensor([39, 60, 43,  1, 21,  1, 58]) we predict 46\n",
      "when we see tensor([39, 60, 43,  1, 21,  1, 58, 46]) we predict 53\n",
      "when we see tensor([1]) we predict 63\n",
      "when we see tensor([ 1, 63]) we predict 53\n",
      "when we see tensor([ 1, 63, 53]) we predict 59\n",
      "when we see tensor([ 1, 63, 53, 59]) we predict 6\n",
      "when we see tensor([ 1, 63, 53, 59,  6]) we predict 1\n",
      "when we see tensor([ 1, 63, 53, 59,  6,  1]) we predict 57\n",
      "when we see tensor([ 1, 63, 53, 59,  6,  1, 57]) we predict 47\n",
      "when we see tensor([ 1, 63, 53, 59,  6,  1, 57, 47]) we predict 56\n",
      "when we see tensor([1]) we predict 54\n",
      "when we see tensor([ 1, 54]) we predict 56\n",
      "when we see tensor([ 1, 54, 56]) we predict 53\n",
      "when we see tensor([ 1, 54, 56, 53]) we predict 59\n",
      "when we see tensor([ 1, 54, 56, 53, 59]) we predict 42\n",
      "when we see tensor([ 1, 54, 56, 53, 59, 42]) we predict 1\n",
      "when we see tensor([ 1, 54, 56, 53, 59, 42,  1]) we predict 46\n",
      "when we see tensor([ 1, 54, 56, 53, 59, 42,  1, 46]) we predict 43\n",
      "when we see tensor([1]) we predict 58\n",
      "when we see tensor([ 1, 58]) we predict 46\n",
      "when we see tensor([ 1, 58, 46]) we predict 53\n",
      "when we see tensor([ 1, 58, 46, 53]) we predict 59\n",
      "when we see tensor([ 1, 58, 46, 53, 59]) we predict 1\n",
      "when we see tensor([ 1, 58, 46, 53, 59,  1]) we predict 44\n",
      "when we see tensor([ 1, 58, 46, 53, 59,  1, 44]) we predict 39\n",
      "when we see tensor([ 1, 58, 46, 53, 59,  1, 44, 39]) we predict 47\n"
     ]
    }
   ],
   "source": [
    "torch.manual_seed(0)\n",
    "block_size= 8# sequence length\n",
    "batch_size = 4# number of sequences in a batch\n",
    "\n",
    "def get_batch(split):\n",
    "    # generate sequences of length block_size\n",
    "    data= train_data if split=='train' else val_data\n",
    "    ix = torch.randint(len(data)-block_size, (batch_size,))\n",
    "    x= torch.stack([data[i:i+block_size] for i in ix])\n",
    "    y= torch.stack([data[i+1:i+block_size+1] for i in ix])\n",
    "    return x,y\n",
    "\n",
    "xb,yb= get_batch('train')\n",
    "print(xb.shape, yb.shape)\n",
    "print(xb)\n",
    "print(yb)\n",
    "\n",
    "for b in range(batch_size):\n",
    "    for t in range(block_size):\n",
    "        context = xb[b, :t+1]\n",
    "        target = yb[b, t]\n",
    "        print(f'when we see {context} we predict {target}')"
   ]
  },
  {
   "cell_type": "markdown",
   "metadata": {},
   "source": [
    "## Bigram Model (testing the data with simplest Model)"
   ]
  },
  {
   "cell_type": "code",
   "execution_count": 10,
   "metadata": {},
   "outputs": [
    {
     "name": "stdout",
     "output_type": "stream",
     "text": [
      "torch.Size([32, 65])\n",
      "tensor(4.9475, grad_fn=<NllLossBackward0>)\n",
      "\n",
      "Sr?qP-QWktXoL&jLDJgOLVz'RIoDqHdhsV&vLLxatjscMpwLERSPyao.qfzs$Ys$zF-w,;eEkzxjgCKFChs!iWW.ObzDnxA Ms$3\n"
     ]
    }
   ],
   "source": [
    "import torch\n",
    "import torch.nn as nn\n",
    "from torch.nn import functional as F\n",
    "torch.manual_seed(1337)\n",
    "\n",
    "class BigramLanguageModel(nn.Module):\n",
    "\n",
    "    def __init__(self, vocab_size):\n",
    "        super().__init__()\n",
    "        # each token directly reads off the logits for the next token from a lookup table\n",
    "        self.token_embedding_table = nn.Embedding(vocab_size, vocab_size)\n",
    "\n",
    "    def forward(self, idx, targets=None):\n",
    "\n",
    "        # idx and targets are both (B,T) tensor of integers and C number of classes(characters)\n",
    "        logits = self.token_embedding_table(idx) # (B,T,C)\n",
    "\n",
    "        if targets is None:\n",
    "            loss = None\n",
    "        else:\n",
    "            B, T, C = logits.shape\n",
    "            logits = logits.view(B*T, C)\n",
    "            targets = targets.view(B*T)\n",
    "            loss = F.cross_entropy(logits, targets)\n",
    "\n",
    "        return logits, loss\n",
    "\n",
    "    def generate(self, idx, max_new_tokens):\n",
    "        # idx is (B, T) array of indices in the current context\n",
    "        for _ in range(max_new_tokens):\n",
    "            # get the predictions\n",
    "            logits, loss = self(idx)\n",
    "            # focus only on the last time step\n",
    "            logits = logits[:, -1, :] # becomes (B, C)\n",
    "            # apply softmax to get probabilities\n",
    "            probs = F.softmax(logits, dim=-1) # (B, C)\n",
    "            # sample from the distribution\n",
    "            idx_next = torch.multinomial(probs, num_samples=1) # (B, 1)\n",
    "            # append sampled index to the running sequence\n",
    "            idx = torch.cat((idx, idx_next), dim=1) # (B, T+1)\n",
    "\n",
    "    \n",
    "        return idx\n",
    "\n",
    "m = BigramLanguageModel(vocab_size)\n",
    "logits, loss = m(xb, yb)\n",
    "print(logits.shape)\n",
    "print(loss)\n",
    "\n",
    "print(decode(m.generate(idx = torch.zeros((1, 1), dtype=torch.long), max_new_tokens=100)[0].tolist()))\n"
   ]
  },
  {
   "cell_type": "code",
   "execution_count": 11,
   "metadata": {},
   "outputs": [
    {
     "name": "stdout",
     "output_type": "stream",
     "text": [
      "iteration 0, loss = 4.664743900299072\n",
      "iteration 1000, loss = 2.4751906394958496\n",
      "iteration 2000, loss = 2.5420734882354736\n",
      "iteration 3000, loss = 2.4348995685577393\n",
      "iteration 4000, loss = 2.418869972229004\n",
      "iteration 5000, loss = 2.489229679107666\n",
      "iteration 6000, loss = 2.4532127380371094\n",
      "iteration 7000, loss = 2.4838154315948486\n",
      "iteration 8000, loss = 2.505552053451538\n",
      "iteration 9000, loss = 2.4648795127868652\n"
     ]
    }
   ],
   "source": [
    "optimizer = torch.optim.Adam(m.parameters(), lr=0.01)\n",
    "batch_size = 32\n",
    "\n",
    "for i in range(10000):\n",
    "    xb, yb = get_batch('train')\n",
    "    logits, loss = m(xb, yb)\n",
    "    optimizer.zero_grad(set_to_none=True)\n",
    "    loss.backward()\n",
    "    optimizer.step()\n",
    "    if i % 1000 == 0:\n",
    "        print(f'iteration {i}, loss = {loss.item()}')"
   ]
  },
  {
   "cell_type": "code",
   "execution_count": 12,
   "metadata": {},
   "outputs": [
    {
     "name": "stdout",
     "output_type": "stream",
     "text": [
      "\n",
      "IZENOng h hasbe pave pirance\n",
      "RDe hicomyonthar's\n",
      "PES:\n",
      "AK:\n",
      "Mith henouratucenonthioneir thondy, y helti\n"
     ]
    }
   ],
   "source": [
    "print(decode(m.generate(idx = torch.zeros((1, 1), dtype=torch.long), max_new_tokens=100)[0].tolist()))"
   ]
  },
  {
   "cell_type": "markdown",
   "metadata": {},
   "source": [
    "## Self Atention Demo"
   ]
  },
  {
   "cell_type": "code",
   "execution_count": 13,
   "metadata": {},
   "outputs": [
    {
     "data": {
      "text/plain": [
       "torch.Size([4, 8, 2])"
      ]
     },
     "execution_count": 13,
     "metadata": {},
     "output_type": "execute_result"
    }
   ],
   "source": [
    "B,T,C = 4,8,2\n",
    "logits = torch.randn(B,T,C)\n",
    "logits.shape"
   ]
  },
  {
   "cell_type": "code",
   "execution_count": 14,
   "metadata": {},
   "outputs": [
    {
     "data": {
      "text/plain": [
       "tensor([[-3.5685e-01, -1.4841e+00],\n",
       "        [ 1.4718e-03, -9.1119e-01],\n",
       "        [-4.2776e-01, -1.4516e+00],\n",
       "        [ 5.2601e-01, -2.5594e-02],\n",
       "        [ 4.3046e-01, -9.9963e-01],\n",
       "        [-6.9346e-01,  9.3705e-01],\n",
       "        [-1.1372e+00, -1.1862e+00],\n",
       "        [-9.0355e-01, -1.1036e+00]])"
      ]
     },
     "execution_count": 14,
     "metadata": {},
     "output_type": "execute_result"
    }
   ],
   "source": [
    "# we are doing logits[b,t]= mean_{i<=t} logit[b,i]\n",
    "logitsbow = torch.zeros(B,T,C)\n",
    "for b in range(B):\n",
    "    for t in range(T):\n",
    "        logitsprev = logits[b,:t+1] # t,C\n",
    "        logitsbow[b,t] = logitsprev.mean(dim=0)\n",
    "        \n",
    "logits[0]\n"
   ]
  },
  {
   "cell_type": "code",
   "execution_count": 15,
   "metadata": {},
   "outputs": [
    {
     "data": {
      "text/plain": [
       "tensor([[-0.3568, -1.4841],\n",
       "        [-0.1777, -1.1976],\n",
       "        [-0.2610, -1.2823],\n",
       "        [-0.0643, -0.9681],\n",
       "        [ 0.0347, -0.9744],\n",
       "        [-0.0867, -0.6558],\n",
       "        [-0.2368, -0.7316],\n",
       "        [-0.3201, -0.7781]])"
      ]
     },
     "execution_count": 15,
     "metadata": {},
     "output_type": "execute_result"
    }
   ],
   "source": [
    "logitsbow[0]"
   ]
  },
  {
   "cell_type": "code",
   "execution_count": 16,
   "metadata": {},
   "outputs": [
    {
     "name": "stdout",
     "output_type": "stream",
     "text": [
      "tensor([[1.0000, 0.0000, 0.0000, 0.0000, 0.0000, 0.0000, 0.0000, 0.0000],\n",
      "        [0.5000, 0.5000, 0.0000, 0.0000, 0.0000, 0.0000, 0.0000, 0.0000],\n",
      "        [0.3333, 0.3333, 0.3333, 0.0000, 0.0000, 0.0000, 0.0000, 0.0000],\n",
      "        [0.2500, 0.2500, 0.2500, 0.2500, 0.0000, 0.0000, 0.0000, 0.0000],\n",
      "        [0.2000, 0.2000, 0.2000, 0.2000, 0.2000, 0.0000, 0.0000, 0.0000],\n",
      "        [0.1667, 0.1667, 0.1667, 0.1667, 0.1667, 0.1667, 0.0000, 0.0000],\n",
      "        [0.1429, 0.1429, 0.1429, 0.1429, 0.1429, 0.1429, 0.1429, 0.0000],\n",
      "        [0.1250, 0.1250, 0.1250, 0.1250, 0.1250, 0.1250, 0.1250, 0.1250]])\n"
     ]
    }
   ],
   "source": [
    "# optimizing abovve code with matrix operations\n",
    "torch.manual_seed(0)\n",
    "wei= torch.tril(torch.ones(T,T))\n",
    "wei= wei/wei.sum(dim=1, keepdim=True)\n",
    "print(wei)"
   ]
  },
  {
   "cell_type": "code",
   "execution_count": 17,
   "metadata": {},
   "outputs": [
    {
     "name": "stdout",
     "output_type": "stream",
     "text": [
      "tensor([[-0.3568, -1.4841],\n",
      "        [-0.1777, -1.1976],\n",
      "        [-0.2610, -1.2823],\n",
      "        [-0.0643, -0.9681],\n",
      "        [ 0.0347, -0.9744],\n",
      "        [-0.0867, -0.6558],\n",
      "        [-0.2368, -0.7316],\n",
      "        [-0.3201, -0.7781]]) tensor([[-0.3568, -1.4841],\n",
      "        [-0.1777, -1.1976],\n",
      "        [-0.2610, -1.2823],\n",
      "        [-0.0643, -0.9681],\n",
      "        [ 0.0347, -0.9744],\n",
      "        [-0.0867, -0.6558],\n",
      "        [-0.2368, -0.7316],\n",
      "        [-0.3201, -0.7781]])\n"
     ]
    }
   ],
   "source": [
    "logitsbow2= wei@ logits # (B,T,T) @ (B,T,C) -> (B,T,C)\n",
    "torch.allclose(logitsbow, logitsbow2)\n",
    "print(logitsbow2[0], logitsbow[0])"
   ]
  },
  {
   "cell_type": "code",
   "execution_count": 20,
   "metadata": {},
   "outputs": [
    {
     "name": "stdout",
     "output_type": "stream",
     "text": [
      "tensor([[-1.1258, -1.1524],\n",
      "        [-0.6882, -0.7931],\n",
      "        [-0.1759, -0.2981],\n",
      "        [-0.2109, -0.7524],\n",
      "        [-0.1043, -0.8546],\n",
      "        [-0.0286, -0.6608],\n",
      "        [-0.0074, -0.3896],\n",
      "        [ 0.1331, -0.3718]])\n"
     ]
    }
   ],
   "source": [
    "torch.manual_seed(0)\n",
    "B,T,C= 4,8,2\n",
    "x= torch.randn(B,T,C)\n",
    "\n",
    "tril= torch.tril(torch.ones(T,T))\n",
    "wei = tril/tril.sum(dim=1, keepdim=True)\n",
    "wei = wei.masked_fill(wei==0, float('-inf'))\n",
    "wei= F.softmax(wei, dim=1)\n",
    "out = wei@x\n",
    "print(out[0])"
   ]
  },
  {
   "cell_type": "code",
   "execution_count": 21,
   "metadata": {},
   "outputs": [
    {
     "data": {
      "text/plain": [
       "tensor([[1.0000, 0.0000, 0.0000, 0.0000, 0.0000, 0.0000, 0.0000, 0.0000],\n",
       "        [0.5000, 0.5000, 0.0000, 0.0000, 0.0000, 0.0000, 0.0000, 0.0000],\n",
       "        [0.3333, 0.3333, 0.3333, 0.0000, 0.0000, 0.0000, 0.0000, 0.0000],\n",
       "        [0.2500, 0.2500, 0.2500, 0.2500, 0.0000, 0.0000, 0.0000, 0.0000],\n",
       "        [0.2000, 0.2000, 0.2000, 0.2000, 0.2000, 0.0000, 0.0000, 0.0000],\n",
       "        [0.1667, 0.1667, 0.1667, 0.1667, 0.1667, 0.1667, 0.0000, 0.0000],\n",
       "        [0.1429, 0.1429, 0.1429, 0.1429, 0.1429, 0.1429, 0.1429, 0.0000],\n",
       "        [0.1250, 0.1250, 0.1250, 0.1250, 0.1250, 0.1250, 0.1250, 0.1250]])"
      ]
     },
     "execution_count": 21,
     "metadata": {},
     "output_type": "execute_result"
    }
   ],
   "source": [
    "wei"
   ]
  },
  {
   "cell_type": "markdown",
   "metadata": {},
   "source": [
    "v4 self attenstion"
   ]
  },
  {
   "cell_type": "code",
   "execution_count": 23,
   "metadata": {},
   "outputs": [
    {
     "name": "stdout",
     "output_type": "stream",
     "text": [
      "torch.Size([4, 8, 16])\n"
     ]
    }
   ],
   "source": [
    "torch.manual_seed(0)\n",
    "B,T,C= 4,8,2\n",
    "x= torch.randn(B,T,C)\n",
    "\n",
    "head_size  =16\n",
    "key = nn.Linear(C, head_size, bias=False)\n",
    "query = nn.Linear(C, head_size, bias=False)\n",
    "value = nn.Linear(C, head_size, bias=False)\n",
    "\n",
    "k = key(x) # (B,T, head_size)\n",
    "q = query(x) # (B,T, head_size)\n",
    "\n",
    "wei = q@k.transpose(-2,-1) # (B,T, head_size) @ (B, head_size, T) -> (B,T,T)\n",
    "\n",
    "\n",
    "tril= torch.tril(torch.ones(T,T))\n",
    "wei = tril/tril.sum(dim=1, keepdim=True)\n",
    "wei = wei.masked_fill(wei==0, float('-inf'))\n",
    "wei= F.softmax(wei, dim=1)\n",
    "v= value(x) # (B,T, head_size)\n",
    "out = wei@v # (B,T,T) @ (B,T, head_size) -> (B,T, head_size)\n",
    "print(out.shape)"
   ]
  },
  {
   "cell_type": "markdown",
   "metadata": {},
   "source": [
    "Notes:\n",
    "- Attention is a **communication mechanism**. Can be seen as nodes in a directed graph looking at each other and aggregating information with a weighted sum from all nodes that point to them, with data-dependent weights.\n",
    "- There is no notion of space. Attention simply acts over a set of vectors. This is why we need to positionally encode tokens.\n",
    "- Each example across batch dimension is of course processed completely independently and never \"talk\" to each other\n",
    "- In an \"encoder\" attention block just delete the single line that does masking with `tril`, allowing all tokens to communicate. This block here is called a \"decoder\" attention block because it has triangular masking, and is usually used in autoregressive settings, like language modeling.\n",
    "- \"self-attention\" just means that the keys and values are produced from the same source as queries. In \"cross-attention\", the queries still get produced from x, but the keys and values come from some other, external source (e.g. an encoder module)\n",
    "- \"Scaled\" attention additional divides `wei` by 1/sqrt(head_size). This makes it so when input Q,K are unit variance, wei will be unit variance too and Softmax will stay diffuse and not saturate too much. Illustration below"
   ]
  },
  {
   "cell_type": "markdown",
   "metadata": {},
   "source": []
  }
 ],
 "metadata": {
  "kernelspec": {
   "display_name": ".venv",
   "language": "python",
   "name": "python3"
  },
  "language_info": {
   "codemirror_mode": {
    "name": "ipython",
    "version": 3
   },
   "file_extension": ".py",
   "mimetype": "text/x-python",
   "name": "python",
   "nbconvert_exporter": "python",
   "pygments_lexer": "ipython3",
   "version": "3.10.12"
  }
 },
 "nbformat": 4,
 "nbformat_minor": 2
}
